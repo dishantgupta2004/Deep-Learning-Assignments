{
  "cells": [
    {
      "cell_type": "markdown",
      "metadata": {
        "id": "view-in-github",
        "colab_type": "text"
      },
      "source": [
        "<a href=\"https://colab.research.google.com/github/dishantgupta2004/Deep-Learning-Assignments/blob/main/Forward_and_Backward_PropogationAssignment_DishantGupta.ipynb\" target=\"_parent\"><img src=\"https://colab.research.google.com/assets/colab-badge.svg\" alt=\"Open In Colab\"/></a>"
      ]
    },
    {
      "cell_type": "markdown",
      "metadata": {
        "id": "loP7mC5fM6nY"
      },
      "source": [
        "### **Explain the concept of forward propagation in a neural network.**"
      ]
    },
    {
      "cell_type": "markdown",
      "metadata": {
        "id": "AKC_U1nNOX9y"
      },
      "source": [
        "Forward propagation is the process of moving input data through the layers of a neural network to generate an output (also called a prediction). This happens during both training and inference.\n",
        "It involves:\n",
        "1. Taking the input features.\n",
        "2. Passing them through each layer (with weights and biases).\n",
        "3. Applying activation functions at each layer.\n",
        "4. Producing the final output.\n",
        "\n",
        "**Maths behind Forward Propogation**\n",
        "- for rach layer l, forward pass involves two main steps:\n",
        " 1. Linear transformation\n",
        " 2. Activation function\n",
        "\n"
      ]
    },
    {
      "cell_type": "markdown",
      "source": [
        "### **What is the purpose of the activation function in forward propagation?**\n"
      ],
      "metadata": {
        "id": "4LsRVOtipY7F"
      }
    },
    {
      "cell_type": "markdown",
      "source": [
        "1. Without activation functions, the network is just a linear function, nmatter how many layers you add.\n",
        "2. Activation functions introduce non-linearity, allowing neural networks to learn complex patterns.\n",
        "\n",
        "🔹 **Purpose of Activation Function**: Activation functions introduce **non-linearity** into the neural network. Without them, no matter how many layers you have, the entire network behaves like a single linear transformation.\n",
        "\n",
        "- **Common Activation Functions**\n",
        " 1. $\\text{ReLU}(z) = \\max(0, z)$\n",
        " 2. $\\sigma(z) = \\frac{1}{1 + e^{-z}}$\n",
        " 3. $\\tanh(z) = \\frac{e^z - e^{-z}}{e^z + e^{-z}}$\n",
        "\n",
        "Activation functions allow the model to approximate **non-linear decision boundaries**.\n"
      ],
      "metadata": {
        "id": "HGssX4WfpgDa"
      }
    },
    {
      "cell_type": "markdown",
      "source": [
        "### **Describe the steps involved in the backward propagation (backpropagation) algorithm.**"
      ],
      "metadata": {
        "id": "rQbQ4ZhMqHq0"
      }
    },
    {
      "cell_type": "markdown",
      "source": [
        "In machine learning, backpropagation is a gradient estimation method commonly used for training a neural network to compute its parameter updates. It is an efficient application of the chain rule to neural networks. Backpropagation computes the gradient of a loss function with respect to the weights of the network for a single input-output example, and does so efficiently, computing the gradient one layer at a time, iterating backward from the last layer to avoid redundant calculations of intermediate terms in the chain rule; this can be derived through dynamic programming.\n",
        "\n",
        "#### 🔹 Backpropagation Mathematical Formulation\n",
        "\n",
        "Let:\n",
        "\n",
        "- $ A^{[L]} $: output of final layer (predicted)\n",
        "- $ Y $: true labels\n",
        "- $ L $: loss function (binary cross-entropy for classification)\n",
        "\n",
        "##### Step 1: Compute Loss\n",
        "\n",
        "$$\n",
        "\\mathcal{L} = -\\left[ y \\log(\\hat{y}) + (1 - y)\\log(1 - \\hat{y}) \\right]\n",
        "$$\n",
        "\n",
        "##### Step 2: Compute Gradient at Output Layer\n",
        "\n",
        "$$\n",
        "dZ^{[L]} = A^{[L]} - Y\n",
        "$$\n",
        "\n",
        "$$\n",
        "dW^{[L]} = \\frac{1}{m} dZ^{[L]} A^{[L-1]^T}\n",
        "$$\n",
        "$$\n",
        "db^{[L]} = \\frac{1}{m} \\sum dZ^{[L]}\n",
        "$$\n",
        "\n",
        "#### Step 3: Propagate Back Through Previous Layers\n",
        "\n",
        "For any layer $ l $:\n",
        "\n",
        "$$\n",
        "dA^{[l]} = W^{[l+1]^T} dZ^{[l+1]}\n",
        "$$\n",
        "\n",
        "$$\n",
        "dZ^{[l]} = dA^{[l]} \\circ \\sigma'(Z^{[l]})\n",
        "$$\n",
        "\n",
        "$$\n",
        "dW^{[l]} = \\frac{1}{m} dZ^{[l]} A^{[l-1]^T}\n",
        "$$\n",
        "$$\n",
        "db^{[l]} = \\frac{1}{m} \\sum dZ^{[l]}\n",
        "$$\n",
        "\n",
        "Where $ \\circ $ denotes element-wise multiplication.\n"
      ],
      "metadata": {
        "id": "3ZfncnERqLtn"
      }
    },
    {
      "cell_type": "markdown",
      "source": [
        "### **What is the purpose of the chain rule in backpropagation?**\n"
      ],
      "metadata": {
        "id": "ivfWNTgJrB6O"
      }
    },
    {
      "cell_type": "markdown",
      "source": [
        "### 🔹 Chain Rule in Backpropagation\n",
        "\n",
        "The chain rule allows us to compute the derivative of composite functions.\n",
        "\n",
        "If:\n",
        "$$\n",
        "y = f(g(x))\n",
        "$$\n",
        "\n",
        "Then:\n",
        "$$\n",
        "\\frac{dy}{dx} = f'(g(x)) \\cdot g'(x)\n",
        "$$\n",
        "\n",
        "In neural networks, each layer is a function of the previous one:\n",
        "$$\n",
        "A^{[l]} = \\sigma(Z^{[l]}), \\quad Z^{[l]} = W^{[l]}A^{[l-1]} + b^{[l]}\n",
        "$$\n",
        "\n",
        "To compute:\n",
        "$$\n",
        "\\frac{\\partial \\mathcal{L}}{\\partial W^{[l]}}\n",
        "$$\n",
        "\n",
        "We apply the chain rule through the sequence of functions:\n",
        "$$\n",
        "\\frac{\\partial \\mathcal{L}}{\\partial W^{[l]}} = \\frac{\\partial \\mathcal{L}}{\\partial A^{[L]}} \\cdot \\frac{\\partial A^{[L]}}{\\partial Z^{[L]}} \\cdot \\cdots \\cdot \\frac{\\partial Z^{[l]}}{\\partial W^{[l]}}\n",
        "$$\n",
        "\n",
        "This allows gradients to flow **from the output layer back to earlier layers**, enabling the network to learn.\n"
      ],
      "metadata": {
        "id": "FeU_lMx2rGgZ"
      }
    },
    {
      "cell_type": "markdown",
      "source": [
        "### **Implement the forward propagation process for a simple neural network with one hidden layer using NumPy.**"
      ],
      "metadata": {
        "id": "OUXRtKpDrVy7"
      }
    },
    {
      "cell_type": "code",
      "execution_count": 7,
      "metadata": {
        "id": "_Ya1-coPMb2U"
      },
      "outputs": [],
      "source": [
        "from os import X_OK\n",
        "import numpy as np\n",
        "\n",
        "class NeuralNetwork:\n",
        "    def __init__(self, layer_sizes, activation='sigmoid', learning_rate=0.01):\n",
        "        self.layer_sizes = layer_sizes\n",
        "        self.num_layers = len(layer_sizes)\n",
        "        self.learning_rate = learning_rate\n",
        "        self.activation_name = activation\n",
        "\n",
        "        self.weights = []\n",
        "        self.biases = []\n",
        "\n",
        "        for i in range(1, self.num_layers):\n",
        "            w = np.random.randn(self.layer_sizes[i - 1], self.layer_sizes[i]) * np.sqrt(1 / self.layer_sizes[i - 1])\n",
        "            b = np.zeros((1, self.layer_sizes[i]))\n",
        "\n",
        "            self.weights.append(w)\n",
        "            self.biases.append(b)\n",
        "\n",
        "    def activation(self, z, derivative=False):\n",
        "        if self.activation_name == 'sigmoid':\n",
        "            if derivative:\n",
        "                sig = 1 / (1 + np.exp(-z))\n",
        "                return sig * (1 - sig)\n",
        "            return 1 / (1 + np.exp(-z))\n",
        "\n",
        "        elif self.activation_name == 'relu':\n",
        "            if derivative:\n",
        "                return np.where(z > 0, 1, 0)\n",
        "            return np.maximum(0, z)\n",
        "\n",
        "        elif self.activation_name == 'tanh':\n",
        "            if derivative:\n",
        "                return 1 - np.tanh(z) ** 2\n",
        "            return np.tanh(z)\n",
        "\n",
        "    def forward(self, x):\n",
        "        activations = [x]  ## list to store activation of each layer\n",
        "        zs = []  ## List to store pre activation values\n",
        "\n",
        "        for i in range(self.num_layers - 1):\n",
        "            z = np.dot(activations[-1], self.weights[i]) + self.biases[i]\n",
        "            zs.append(z)\n",
        "            a = self.activation(z)\n",
        "            activations.append(a)\n",
        "\n",
        "        return activations, zs\n",
        "\n",
        "    def backward(self, x, y):\n",
        "        m = x.shape[0]\n",
        "        activations, zs = self.forward(x)\n",
        "\n",
        "        dw = [np.zeros_like(w) for w in self.weights]\n",
        "        db = [np.zeros_like(b) for b in self.biases]\n",
        "\n",
        "        delta = activations[-1] - y\n",
        "\n",
        "        dw[-1] = np.dot(activations[-2].T, delta) / m\n",
        "        db[-1] = np.sum(delta, axis=0, keepdims=True) / m\n",
        "\n",
        "        for l in range(2, self.num_layers):\n",
        "            delta = np.dot(delta, self.weights[-l + 1].T) * self.activation(zs[-l], derivative=True)\n",
        "            dw[-l] = np.dot(activations[-l - 1].T, delta) / m\n",
        "            db[-l] = np.sum(delta, axis=0, keepdims=True) / m\n",
        "\n",
        "        return dw, db\n",
        "\n",
        "    def update_params(self, dw, db):\n",
        "        for i in range(len(self.weights)):\n",
        "            self.weights[i] -= self.learning_rate * dw[i]\n",
        "            self.biases[i] -= self.learning_rate * db[i]\n",
        "\n",
        "    def compute_loss(self, y_true, y_pred):\n",
        "        return np.mean(np.square(y_true - y_pred))\n",
        "\n",
        "    def train(self, X, y, epochs=1000, verbose=True, verbose_step=100):\n",
        "        loss_history = []\n",
        "        for epoch in range(epochs):\n",
        "            activations, _ = self.forward(X)\n",
        "            y_pred = activations[-1]\n",
        "\n",
        "            loss = self.compute_loss(y, y_pred)\n",
        "            loss_history.append(loss)\n",
        "\n",
        "            dw, db = self.backward(X, y)\n",
        "            self.update_params(dw, db)\n",
        "\n",
        "            if verbose and epoch % verbose_step == 0:\n",
        "                print(f\"Epoch {epoch}, Loss: {loss:.6f}\")\n",
        "\n",
        "        return loss_history\n",
        "\n",
        "    def predict(self, X):\n",
        "        activations, _ = self.forward(X)\n",
        "        return activations[-1]"
      ]
    },
    {
      "cell_type": "code",
      "source": [
        "if __name__ == \"__main__\":\n",
        "    X = np.array([[0, 0], [0, 1], [1, 0], [1, 1]])\n",
        "    y = np.array([[0], [1], [1], [0]])\n",
        "\n",
        "    # Create a neural network with 2 input neurons, 1 hidden neurons, and 1 output neuron\n",
        "    nn = NeuralNetwork([2, 1, 1], activation='sigmoid', learning_rate=0.01)\n",
        "\n",
        "    loss_history = nn.train(X, y, epochs=10000, verbose=True, verbose_step=1000)\n",
        "    predictions = nn.predict(X)\n",
        "\n",
        "    print(\"\\nPredictions:\")\n",
        "    for i in range(len(X)):\n",
        "        print(f\"Input: {X[i]}, Target: {y[i][0]}, Prediction: {predictions[i][0]:.4f}\")\n",
        "\n",
        "    # To visualize the loss\n",
        "    import matplotlib.pyplot as plt\n",
        "    plt.figure(figsize=(10, 6))\n",
        "    plt.plot(loss_history)\n",
        "    plt.title('Training Loss over Epochs')\n",
        "    plt.xlabel('Epoch')\n",
        "    plt.ylabel('Loss')\n",
        "    plt.grid(True)\n",
        "    plt.show()"
      ],
      "metadata": {
        "colab": {
          "base_uri": "https://localhost:8080/",
          "height": 842
        },
        "id": "OcUiBVHNvMV_",
        "outputId": "f494d50b-bcbe-4508-e357-2b6d6f9ef808"
      },
      "execution_count": 11,
      "outputs": [
        {
          "output_type": "stream",
          "name": "stdout",
          "text": [
            "Epoch 0, Loss: 0.266908\n",
            "Epoch 1000, Loss: 0.251288\n",
            "Epoch 2000, Loss: 0.249912\n",
            "Epoch 3000, Loss: 0.248501\n",
            "Epoch 4000, Loss: 0.246907\n",
            "Epoch 5000, Loss: 0.245051\n",
            "Epoch 6000, Loss: 0.242876\n",
            "Epoch 7000, Loss: 0.240332\n",
            "Epoch 8000, Loss: 0.237372\n",
            "Epoch 9000, Loss: 0.233957\n",
            "\n",
            "Predictions:\n",
            "Input: [0 0], Target: 0, Prediction: 0.3835\n",
            "Input: [0 1], Target: 1, Prediction: 0.5298\n",
            "Input: [1 0], Target: 1, Prediction: 0.5160\n",
            "Input: [1 1], Target: 0, Prediction: 0.5638\n"
          ]
        },
        {
          "output_type": "display_data",
          "data": {
            "text/plain": [
              "<Figure size 1000x600 with 1 Axes>"
            ],
            "image/png": "[encoded data removed]"
          },
          "metadata": {}
        }
      ]
    },
    {
      "cell_type": "code",
      "source": [],
      "metadata": {
        "id": "jrU2spqBvlO5"
      },
      "execution_count": null,
      "outputs": []
    }
  ],
  "metadata": {
    "colab": {
      "provenance": [],
      "authorship_tag": "ABX9TyOs1Evp6bvOp6OmkYQKJ5ao",
      "include_colab_link": true
    },
    "kernelspec": {
      "display_name": "Python 3",
      "name": "python3"
    },
    "language_info": {
      "name": "python"
    }
  },
  "nbformat": 4,
  "nbformat_minor": 0
}